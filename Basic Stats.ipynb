{
 "cells": [
  {
   "cell_type": "code",
   "execution_count": 6,
   "metadata": {},
   "outputs": [
    {
     "name": "stdout",
     "output_type": "stream",
     "text": [
      "Column headings:\n",
      "Index(['Incident ID', 'Template Name', 'Summary', 'Notes', 'Incident.Status',\n",
      "       'Impact', 'Urgency', 'Priority', 'Weight', 'Status Reason',\n",
      "       'Created By', 'Resolution Time Buckets', 'Name', 'First Name',\n",
      "       'Last Name', 'VIP User', 'Contact Sensitivity', 'Internet Email',\n",
      "       'Corporate ID', 'Phone Number', 'Company', 'Organization', 'Department',\n",
      "       'Site Group', 'Site', 'Country', 'Region', 'Reported Source',\n",
      "       'Incident Service Type', 'Product Categorization Tier 1',\n",
      "       'Product Categorization Tier 2', 'Product Categorization Tier 3',\n",
      "       'Product Name', 'Operational  Categorization Tier 1',\n",
      "       'Operational  Categorization Tier 2',\n",
      "       'Operational  Categorization Tier 3', 'Assigned Support Company',\n",
      "       'Assigned Support Organization', 'Assigned Group', 'Assignee',\n",
      "       'Owner Support Company', 'Owner Support Organization', 'Owner Group',\n",
      "       'Owner', 'Resolution Method', 'Resolution', 'Cause', 'Closure Source',\n",
      "       'Incident Last Resolved Date', 'Incident Reported Date Time',\n",
      "       'Incident Closed Date Time', 'Resolution Category Tier 1',\n",
      "       'Resolution Category Tier 2', 'Resolution Category Tier 3',\n",
      "       'Resolution Product Category Tier1',\n",
      "       'Resolution Product Category Tier2',\n",
      "       'Resolution Product Category Tier3', 'Resolution Product Model Version',\n",
      "       'Resolution Product Name', 'Resolution Manufacturer', 'Submit Date',\n",
      "       'Next Target Date', 'SLM Status', 'Assigne Effort (minutes)',\n",
      "       'Vendor Ticket Number', 'Vendor Group', 'SRMS Ticket Number',\n",
      "       'SRMS Incident Status', 'Dispatch Status', 'New-User', 'New-Date/Time',\n",
      "       'Assigned-User', 'Assigned-Date/Time', 'Pending-User',\n",
      "       'Pending-Date/Time', 'In Progress-User', 'In Progress-Date/Time',\n",
      "       'Resolved-User', 'Resolved-Date/Time', 'Closed-User',\n",
      "       'Closed-Date/Time', 'Cancelled-User', 'Cancelled-Date/Time',\n",
      "       'Group Transfers', 'Individual Transfers', 'UIS_ProdCat_HDR',\n",
      "       'UIS_ServiceCat_HDR', 'City', 'State/Province',\n",
      "       'Incidents Related To Incidents.Incident ID', 'Last Modified Date',\n",
      "       'Week Ending', 'MSC', 'Age', 'Bucket'],\n",
      "      dtype='object')\n"
     ]
    }
   ],
   "source": [
    "import pandas as pd\n",
    "from pandas import ExcelWriter\n",
    "from pandas import ExcelFile\n",
    "\n",
    "filepath = 'C:\\\\D Drive\\\\Floserve\\\\closed Jan to March.xlsx'  #Enter the path for your file\n",
    "\n",
    "sheetpath = 'Sheet5' #Enter th Sheet Name \n",
    "    \n",
    "df = pd.read_excel(filepath, sheetpath)\n",
    " \n",
    "print(\"Column headings:\")\n",
    "\n",
    "print(df.columns)  # This will give you all column names in you excel file\n",
    "\n"
   ]
  },
  {
   "cell_type": "markdown",
   "metadata": {},
   "source": [
    "Mean is calculated in below cell and converted to float value for hours\n",
    "\n",
    "if you have any onter column name for ttr calculation replace the following column names\n",
    "\n",
    "Incident Last Resolved Date\n",
    "Incident Reported Date Time\n"
   ]
  },
  {
   "cell_type": "code",
   "execution_count": 92,
   "metadata": {},
   "outputs": [],
   "source": [
    "\n",
    "\n",
    "import datetime\n",
    "df['meantime']= (df['Incident Last Resolved Date']-df['Incident Reported Date Time']) #Enter name of column for reported date\n",
    "\n",
    "df['meantime'] = ((((df['meantime']).dt.components.days)*24)+(((df['meantime']).dt.components.hours)))+((df['meantime'].dt.components.minutes)/60)\n",
    "\n",
    "\n"
   ]
  },
  {
   "cell_type": "markdown",
   "metadata": {},
   "source": [
    "Below MTTR is calculated by Product Name and Reported Source, if you need any other cobmination just change column names"
   ]
  },
  {
   "cell_type": "code",
   "execution_count": 94,
   "metadata": {},
   "outputs": [],
   "source": [
    "from pandas import ExcelWriter\n",
    "from pandas import ExcelFile\n",
    "import numpy as np\n",
    "\n",
    "mean_by_product_and_source = df.groupby(['Product Name','Reported Source']).meantime.mean().unstack()\n",
    "#mean_by_product_and_source\n",
    "#if you like to see the output here uncomment the line above by removing # from the begining \n"
   ]
  },
  {
   "cell_type": "markdown",
   "metadata": {},
   "source": [
    "Below Median for TTR is calculated by Product Name and Reported Source, if you need any other cobmination just change column names"
   ]
  },
  {
   "cell_type": "code",
   "execution_count": 96,
   "metadata": {},
   "outputs": [],
   "source": [
    "median_by_product_and_source = df.groupby(['Product Name','Reported Source']).meantime.median().unstack()\n",
    "#median_by_product_and_source\n",
    "#if you like to see the output here uncomment the line above by removing # from the begining"
   ]
  },
  {
   "cell_type": "markdown",
   "metadata": {},
   "source": [
    "Below stats for TTR is calculated by Product Name and Reported Source, if you need any other cobmination just change column names"
   ]
  },
  {
   "cell_type": "code",
   "execution_count": 97,
   "metadata": {},
   "outputs": [],
   "source": [
    "stats_by_product_and_source = df.groupby(['Product Name','Reported Source']).meantime.describe()\n",
    "#stats_by_product_and_source\n",
    "#if you like to see the output here uncomment the line above by removing # from the begining"
   ]
  },
  {
   "cell_type": "markdown",
   "metadata": {},
   "source": [
    "Below code will write your output file"
   ]
  },
  {
   "cell_type": "code",
   "execution_count": 95,
   "metadata": {},
   "outputs": [],
   "source": [
    "writer = ExcelWriter('statsbygroup.xlsx')\n",
    "mean_by_product_and_source.to_excel(writer,'Mean')\n",
    "median_by_product_and_source.to_excel(writer,'Median')\n",
    "stats_by_product_and_source.to_excel(writer,'BasicStats')\n",
    "writer.save()"
   ]
  },
  {
   "cell_type": "code",
   "execution_count": null,
   "metadata": {},
   "outputs": [],
   "source": []
  }
 ],
 "metadata": {
  "kernelspec": {
   "display_name": "Python 3",
   "language": "python",
   "name": "python3"
  },
  "language_info": {
   "codemirror_mode": {
    "name": "ipython",
    "version": 3
   },
   "file_extension": ".py",
   "mimetype": "text/x-python",
   "name": "python",
   "nbconvert_exporter": "python",
   "pygments_lexer": "ipython3",
   "version": "3.6.5"
  }
 },
 "nbformat": 4,
 "nbformat_minor": 2
}
