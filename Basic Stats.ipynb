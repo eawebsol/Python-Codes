{
 "cells": [
  {
   "cell_type": "code",
   "execution_count": null,
   "metadata": {},
   "outputs": [],
   "source": [
    "import pandas as pd\n",
    "from pandas import ExcelWriter\n",
    "from pandas import ExcelFile\n",
    "\n",
    "filepath = 'C:\\\\D Drive\\\\Floserve\\\\closed Jan to March.xlsx'  #Enter the path for your file\n",
    "\n",
    "sheetpath = 'Sheet5' #Enter th Sheet Name \n",
    "    \n",
    "df = pd.read_excel(filepath, sheetpath)\n",
    " \n",
    "print(\"Column headings:\")\n",
    "\n",
    "print(df.columns)  # This will give you all column names in you excel file\n",
    "\n"
   ]
  },
  {
   "cell_type": "markdown",
   "metadata": {},
   "source": [
    "Mean is calculated in below cell and converted to float value for hours\n",
    "\n",
    "if you have any onter column name for ttr calculation replace the following column names\n",
    "\n",
    "Incident Last Resolved Date\n",
    "Incident Reported Date Time\n"
   ]
  },
  {
   "cell_type": "code",
   "execution_count": null,
   "metadata": {},
   "outputs": [],
   "source": [
    "\n",
    "\n",
    "import datetime\n",
    "df['meantime']= (df['Incident Last Resolved Date']-df['Incident Reported Date Time']) #Enter name of column for reported date\n",
    "\n",
    "df['meantime'] = ((((df['meantime']).dt.components.days)*24)+(((df['meantime']).dt.components.hours)))+((df['meantime'].dt.components.minutes)/60)\n",
    "\n",
    "\n"
   ]
  },
  {
   "cell_type": "markdown",
   "metadata": {},
   "source": [
    "Below MTTR is calculated by Product Name and Reported Source, if you need any other cobmination just change column names"
   ]
  },
  {
   "cell_type": "code",
   "execution_count": null,
   "metadata": {},
   "outputs": [],
   "source": [
    "from pandas import ExcelWriter\n",
    "from pandas import ExcelFile\n",
    "import numpy as np\n",
    "\n",
    "mean_by_product_and_source = df.groupby(['Product Name','Reported Source']).meantime.mean().unstack()\n",
    "#mean_by_product_and_source\n",
    "#if you like to see the output here uncomment the line above by removing # from the begining \n"
   ]
  },
  {
   "cell_type": "markdown",
   "metadata": {},
   "source": [
    "Below Median for TTR is calculated by Product Name and Reported Source, if you need any other cobmination just change column names"
   ]
  },
  {
   "cell_type": "code",
   "execution_count": null,
   "metadata": {},
   "outputs": [],
   "source": [
    "median_by_product_and_source = df.groupby(['Product Name','Reported Source']).meantime.median().unstack()\n",
    "#median_by_product_and_source\n",
    "#if you like to see the output here uncomment the line above by removing # from the begining"
   ]
  },
  {
   "cell_type": "markdown",
   "metadata": {},
   "source": [
    "Below stats for TTR is calculated by Product Name and Reported Source, if you need any other cobmination just change column names"
   ]
  },
  {
   "cell_type": "code",
   "execution_count": null,
   "metadata": {},
   "outputs": [],
   "source": [
    "stats_by_product_and_source = df.groupby(['Product Name','Reported Source']).meantime.describe()\n",
    "#stats_by_product_and_source\n",
    "#if you like to see the output here uncomment the line above by removing # from the begining"
   ]
  },
  {
   "cell_type": "markdown",
   "metadata": {},
   "source": [
    "Below code will write your output file"
   ]
  },
  {
   "cell_type": "code",
   "execution_count": null,
   "metadata": {},
   "outputs": [],
   "source": [
    "writer = ExcelWriter('statsbygroup.xlsx')\n",
    "mean_by_product_and_source.to_excel(writer,'Mean')\n",
    "median_by_product_and_source.to_excel(writer,'Median')\n",
    "stats_by_product_and_source.to_excel(writer,'BasicStats')\n",
    "writer.save()"
   ]
  },
  {
   "cell_type": "code",
   "execution_count": null,
   "metadata": {},
   "outputs": [],
   "source": []
  }
 ],
 "metadata": {
  "kernelspec": {
   "display_name": "Python 3",
   "language": "python",
   "name": "python3"
  },
  "language_info": {
   "codemirror_mode": {
    "name": "ipython",
    "version": 3
   },
   "file_extension": ".py",
   "mimetype": "text/x-python",
   "name": "python",
   "nbconvert_exporter": "python",
   "pygments_lexer": "ipython3",
   "version": "3.6.5"
  }
 },
 "nbformat": 4,
 "nbformat_minor": 2
}
