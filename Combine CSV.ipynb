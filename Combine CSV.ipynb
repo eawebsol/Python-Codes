{
 "cells": [
  {
   "cell_type": "code",
   "execution_count": null,
   "metadata": {},
   "outputs": [],
   "source": [
    "#Program to Combine csv files in Python\n",
    "\n",
    "#We need to import libraries pandas, glob and os\n",
    "\n",
    "import pandas as pd\n",
    "import glob, os\n",
    "\n",
    "#folderlocation eg \"C:/users/combine/\"\n",
    "\n",
    "path = \"C:/Users/syedesa/Pandas Excersice/Combine Excel/\"\n",
    "\n",
    "os.chdir(path)\n",
    "\n",
    "output = pd.DataFrame([])\n",
    "\n",
    "filebegining = \"Replace with common part of file name keep start as it is *\"\n",
    "\n",
    "#Modify usecols based on the number of columns you have\n",
    "\n",
    "for counter, file in enumerate(glob.glob(filebegining)):\n",
    "    filedf = pd.read_csv(file, skiprows=0)\n",
    "    output = output.append(filedf)\n",
    "\n",
    "#Creating an output file\n",
    "\n",
    "#csvout example \"c:/users/combine/combinedoutput.csv\"\n",
    "\n",
    "csvout = \"Paste output path with file name.csv\"\n",
    "\n",
    "output.to_csv(csvout)"
   ]
  }
 ],
 "metadata": {
  "kernelspec": {
   "display_name": "Python 3",
   "language": "python",
   "name": "python3"
  },
  "language_info": {
   "codemirror_mode": {
    "name": "ipython",
    "version": 3
   },
   "file_extension": ".py",
   "mimetype": "text/x-python",
   "name": "python",
   "nbconvert_exporter": "python",
   "pygments_lexer": "ipython3",
   "version": "3.6.5"
  }
 },
 "nbformat": 4,
 "nbformat_minor": 2
}
